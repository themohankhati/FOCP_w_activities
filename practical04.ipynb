{
 "cells": [
  {
   "cell_type": "markdown",
   "metadata": {},
   "source": [
    "TASK: Write some code that imports only the log2() function from the math module, then\n",
    "call this function to calculate the log base 2 value of 1024. Print the result to the screen.\n"
   ]
  },
  {
   "cell_type": "code",
   "execution_count": 2,
   "metadata": {},
   "outputs": [
    {
     "data": {
      "text/plain": [
       "10.0"
      ]
     },
     "execution_count": 2,
     "metadata": {},
     "output_type": "execute_result"
    }
   ],
   "source": [
    "import math\n",
    "math.log2(1024)"
   ]
  },
  {
   "cell_type": "markdown",
   "metadata": {},
   "source": [
    "TASK: Input the above function definition. Once that is done make several calls to the\n",
    "function passing different argument values for testing."
   ]
  },
  {
   "cell_type": "code",
   "execution_count": 5,
   "metadata": {},
   "outputs": [
    {
     "name": "stdout",
     "output_type": "stream",
     "text": [
      "hi\n",
      "hello\n"
     ]
    }
   ],
   "source": [
    "def displayTwice(msg):\n",
    "    return msg\n",
    "print(\"hi\")\n",
    "print(\"hello\")"
   ]
  },
  {
   "cell_type": "markdown",
   "metadata": {},
   "source": [
    "TASK: Input the above function definition. Once that is done make several calls to the\n",
    "function passing different argument values and displaying the returned value.\n"
   ]
  },
  {
   "cell_type": "code",
   "execution_count": 9,
   "metadata": {},
   "outputs": [
    {
     "name": "stdout",
     "output_type": "stream",
     "text": [
      "3\n",
      "4\n"
     ]
    }
   ],
   "source": [
    "def findMax(a,b):\n",
    "    \"\"\"Finds the maximum of two values.\"\"\"\n",
    "    if ( a > b ):\n",
    "        max = a\n",
    "    else:\n",
    "        max = b\n",
    "    return max\n",
    "print(findMax(2,3))\n",
    "print(findMax(4,1))"
   ]
  },
  {
   "cell_type": "markdown",
   "metadata": {},
   "source": [
    "TASK: Enter the example function shown above, then try calling it using the keyword\n",
    "arguments in several different orders."
   ]
  },
  {
   "cell_type": "code",
   "execution_count": 12,
   "metadata": {},
   "outputs": [
    {
     "name": "stdout",
     "output_type": "stream",
     "text": [
      "x is 1 \n",
      "y is 2 \n",
      "z is 3\n",
      "None\n",
      "x is 2 \n",
      "y is 5 \n",
      "z is 1\n",
      "None\n"
     ]
    }
   ],
   "source": [
    "def someFunc(x, y, z):\n",
    "    print(\"x is\", x, \"\\ny is\", y, \"\\nz is\", z)\n",
    "print(someFunc(1,2,3))\n",
    "print(someFunc(x=2,z=1,y=5))"
   ]
  },
  {
   "cell_type": "markdown",
   "metadata": {},
   "source": [
    "TASK: The built-in print() function supports a keyword argument called sep. This is used\n",
    "to decide what character to display between each of the provided positional parameters.\n",
    "Write some code that makes several calls to the print() function while setting the sep\n",
    "argument to values other than a space (which is the default)."
   ]
  },
  {
   "cell_type": "code",
   "execution_count": 15,
   "metadata": {},
   "outputs": [
    {
     "name": "stdout",
     "output_type": "stream",
     "text": [
      "INFO File missing Insert Disk Press return\n"
     ]
    }
   ],
   "source": [
    "def showMsg(title, body=\"\", prefix=\"INFO\", suffix=\".\"):\n",
    "    print(prefix,title,body,suffix)\n",
    "#showMsg(\"File opened\")\n",
    "#showMsg(\"File not opened\", prefix=\"ERROR\" )\n",
    "showMsg(\"File missing\", body=\"Insert Disk\", suffix=\"Press return\")\n",
    "\n"
   ]
  },
  {
   "cell_type": "code",
   "execution_count": 24,
   "metadata": {},
   "outputs": [
    {
     "name": "stdout",
     "output_type": "stream",
     "text": [
      "Mohan\n",
      "Manoj\n"
     ]
    }
   ],
   "source": [
    "def charr(sep):\n",
    "    print(sep)\n",
    "    sep=\"Manoj\"\n",
    "    print(sep)\n",
    "charr(\"Mohan\")"
   ]
  },
  {
   "cell_type": "markdown",
   "metadata": {},
   "source": [
    "TASK: Enter the example function shown above, then try calling it several times, passing a\n",
    "different number of numeric arguments each time.\n"
   ]
  },
  {
   "cell_type": "code",
   "execution_count": 25,
   "metadata": {},
   "outputs": [
    {
     "data": {
      "text/plain": [
       "0.4"
      ]
     },
     "execution_count": 25,
     "metadata": {},
     "output_type": "execute_result"
    }
   ],
   "source": [
    "def calcAve(*numbers):\n",
    "    total = 0\n",
    "    for num in numbers:\n",
    "        total += num\n",
    "        return total/len(numbers)\n",
    "calcAve(2,3,4,4,4)"
   ]
  },
  {
   "cell_type": "markdown",
   "metadata": {},
   "source": [
    "TASK: Enter the example lambda expression shown above, then find out the data type of\n",
    "the hypot variable using a call to the type() function. Notice the result."
   ]
  },
  {
   "cell_type": "code",
   "execution_count": 3,
   "metadata": {},
   "outputs": [
    {
     "data": {
      "text/plain": [
       "function"
      ]
     },
     "execution_count": 3,
     "metadata": {},
     "output_type": "execute_result"
    }
   ],
   "source": [
    "import math\n",
    "hypot = lambda a,b : math.sqrt(a * a + b * b)\n",
    "hypot(3,4)\n",
    "type(hypot)"
   ]
  },
  {
   "cell_type": "markdown",
   "metadata": {},
   "source": [
    "TASK: Write a lambda expression that takes two formal parameters, hours and minutes.\n",
    "The expression should calculate and return the total number of equivalent seconds. Assign\n",
    "the expression to a variable called to_seconds, then call the function several times for\n",
    "testing."
   ]
  },
  {
   "cell_type": "code",
   "execution_count": 6,
   "metadata": {},
   "outputs": [
    {
     "data": {
      "text/plain": [
       "3660"
      ]
     },
     "execution_count": 6,
     "metadata": {},
     "output_type": "execute_result"
    }
   ],
   "source": [
    "to_seconds = lambda hours,minutes :hours*60*60 + minutes*60\n",
    "to_seconds(1,1)"
   ]
  },
  {
   "cell_type": "markdown",
   "metadata": {},
   "source": [
    "TASK: Improve your previous lambda expression so that if only one argument is passed\n",
    "within a call, then the number of minutes defaults to 0, as detailed below:\n"
   ]
  },
  {
   "cell_type": "code",
   "execution_count": 11,
   "metadata": {},
   "outputs": [
    {
     "ename": "TypeError",
     "evalue": "<lambda>() missing 1 required positional argument: 'minutes'",
     "output_type": "error",
     "traceback": [
      "\u001b[1;31m---------------------------------------------------------------------------\u001b[0m",
      "\u001b[1;31mTypeError\u001b[0m                                 Traceback (most recent call last)",
      "Cell \u001b[1;32mIn [11], line 2\u001b[0m\n\u001b[0;32m      1\u001b[0m to_seconds \u001b[39m=\u001b[39m \u001b[39mlambda\u001b[39;00m hours,minutes :hours\u001b[39m*\u001b[39m\u001b[39m60\u001b[39m\u001b[39m*\u001b[39m\u001b[39m60\u001b[39m \u001b[39m+\u001b[39m minutes\u001b[39m*\u001b[39m\u001b[39m60\u001b[39m\n\u001b[1;32m----> 2\u001b[0m \u001b[39mif\u001b[39;00m to_seconds(\u001b[39m2\u001b[39;49m):\n\u001b[0;32m      3\u001b[0m     minutes\u001b[39m=\u001b[39m\u001b[39m0\u001b[39m\n\u001b[0;32m      4\u001b[0m to_seconds(\u001b[39m2\u001b[39m)\n",
      "\u001b[1;31mTypeError\u001b[0m: <lambda>() missing 1 required positional argument: 'minutes'"
     ]
    }
   ],
   "source": [
    "\n",
    "to_seconds = lambda hours,minutes :hours*60*60 + minutes*60\n"
   ]
  }
 ],
 "metadata": {
  "kernelspec": {
   "display_name": "Python 3.10.4 64-bit",
   "language": "python",
   "name": "python3"
  },
  "language_info": {
   "codemirror_mode": {
    "name": "ipython",
    "version": 3
   },
   "file_extension": ".py",
   "mimetype": "text/x-python",
   "name": "python",
   "nbconvert_exporter": "python",
   "pygments_lexer": "ipython3",
   "version": "3.10.4"
  },
  "orig_nbformat": 4,
  "vscode": {
   "interpreter": {
    "hash": "76d7c06053c3456e5600312cec90888656fc0ed30c03d8425b9dac6e4fc8e014"
   }
  }
 },
 "nbformat": 4,
 "nbformat_minor": 2
}
